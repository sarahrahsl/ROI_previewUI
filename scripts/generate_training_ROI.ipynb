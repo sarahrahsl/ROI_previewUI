{
 "cells": [
  {
   "cell_type": "markdown",
   "metadata": {},
   "source": [
    "## Training data Generation\n",
    "\n",
    "13 params to run the ROI generation script:\n",
    "- h5path : HDF5 file path\n",
    "- Abhome : Home directory for \"train\" foler, should be inside the Ab folder\n",
    "- hiclip_val : Target channel, higher limit for clipping\n",
    "- lowclip_val : Target channel, lower limit for clipping\n",
    "- nuc_clip_low   : Nuc channel, lower limit for clipping\n",
    "- nuc_clip_high  : Nuc channel, higher limit for clipping\n",
    "- cyto_clip_low  : Cyto channel, lower limit for clipping\n",
    "- cyto_clip_high : Cyto channel, higher limit for clipping\n",
    "- xstart : x-coordinate for selected ROI\n",
    "- ystart : y-coordinate for selected ROI\n",
    "- zstart : z-coordinate for selected ROI\n",
    "- ROI_dim : Dimension of ROI to be cropped, 512 x 512 (default)\n",
    "- no_of_layer : Number of layers/levels to sample, 50 (default)\n",
    "\n",
    "Return: \n",
    "* \"Train\" folder in specified Antibody directory, with \"Ch0\", \"Ch1\", \"Ch2\" as subfolder, \n",
    "* Cropped ROIs blocks are saved in this folder w/ this format: *OTLS4_NODO_mmddyy_xxxxx_Xpos_xxxxx_xxxxx_Ypos_xxxxx_xxxxx_stack_xxxxx_xxxxx_mirror* "
   ]
  },
  {
   "cell_type": "code",
   "execution_count": 8,
   "metadata": {},
   "outputs": [],
   "source": [
    "import os\n",
    "import h5py as h5\n",
    "from CollectImgStackFused import *\n",
    "import warnings\n",
    "warnings.filterwarnings(\"ignore\")"
   ]
  },
  {
   "cell_type": "markdown",
   "metadata": {},
   "source": [
    "Define the main function that generates training ROIs.\n",
    "\n",
    "`main()` : Grab the 13 input parameters to generate training ROIs. Create \"train\" folder. \n",
    "\n",
    "`CollectImgStackFused()` : Nested function.\n",
    "- Load .h5 file with corresponding coords, rescale intensity and save it as 8-bits .jpeg stacks.\n",
    "- Output it to \"train\" folder, and /ch0, /ch1, /ch2 subfolders. "
   ]
  },
  {
   "cell_type": "code",
   "execution_count": 9,
   "metadata": {},
   "outputs": [],
   "source": [
    "def main(h5path\n",
    "        ,train_home\n",
    "        ,hiclip_val\n",
    "        ,lowclip_val\n",
    "        ,nuc_clip_low\n",
    "        ,nuc_clip_high\n",
    "        ,cyto_clip_low\n",
    "        ,cyto_clip_high\n",
    "        ,clahe\n",
    "        ,xstart\n",
    "        ,ystart\n",
    "        ,zstart\n",
    "        ,ROI_dim\n",
    "        ,no_of_layer\n",
    "        ,orient\n",
    "        ,res\n",
    "        ):\n",
    "\n",
    "    filename = h5path\n",
    "    # savedir = os.getcwd() + os.sep + 'train'\n",
    "    if not os.path.exists(train_home):\n",
    "        os.mkdir(train_home)\n",
    "    savedir = train_home + os.sep + 'train'\n",
    "    if not os.path.exists(savedir):\n",
    "        os.mkdir(savedir)\n",
    "\n",
    "    split = filename.count(\"/\") - 1\n",
    "    blockname = filename.split(\"/\")[split]\n",
    "    print(blockname,\"[ xyz:\",xstart,ystart,zstart,\"]\")\n",
    "    print(savedir)\n",
    "\n",
    "    xstop = xstart + ROI_dim\n",
    "    xcoords = (xstart, xstop)\n",
    "\n",
    "    ystop = ystart + ROI_dim\n",
    "    ycoords = (ystart, ystop)\n",
    "\n",
    "    zstop = zstart + no_of_layer\n",
    "    zcoords = (zstart, zstop)\n",
    "\n",
    "    with h5.File(filename, 'r') as f:\n",
    "        collectImgStackFused(f,\n",
    "                        savedir,\n",
    "                        blockname,\n",
    "                        zcoords,\n",
    "                        xcoords,\n",
    "                        ycoords,\n",
    "                        orient,\n",
    "                        CLAHE=clahe,\n",
    "                        hiclip_val  = hiclip_val,\n",
    "                        lowclip_val = lowclip_val,\n",
    "                        nuc_clip_low   = nuc_clip_low,\n",
    "                        nuc_clip_high  = nuc_clip_high,\n",
    "                        cyto_clip_low  = cyto_clip_low,\n",
    "                        cyto_clip_high = cyto_clip_high, \n",
    "                        res = res)\n",
    "    f.close()"
   ]
  },
  {
   "cell_type": "markdown",
   "metadata": {},
   "source": [
    "**Auto Set up with GUI [Preferred]** \n",
    "\n",
    "You should already have the *ROI_coords_yyyy-mm-dd.csv* file ready. If not, use *ROI_v2.py* to export all the params into a .csv file."
   ]
  },
  {
   "cell_type": "code",
   "execution_count": 11,
   "metadata": {},
   "outputs": [
    {
     "ename": "ModuleNotFoundError",
     "evalue": "No module named 'pandas'",
     "output_type": "error",
     "traceback": [
      "\u001b[1;31m---------------------------------------------------------------------------\u001b[0m",
      "\u001b[1;31mModuleNotFoundError\u001b[0m                       Traceback (most recent call last)",
      "Cell \u001b[1;32mIn[11], line 1\u001b[0m\n\u001b[1;32m----> 1\u001b[0m \u001b[38;5;28;01mimport\u001b[39;00m \u001b[38;5;21;01mpandas\u001b[39;00m \u001b[38;5;28;01mas\u001b[39;00m \u001b[38;5;21;01mpd\u001b[39;00m\n\u001b[0;32m      2\u001b[0m \u001b[38;5;28;01mimport\u001b[39;00m \u001b[38;5;21;01mtime\u001b[39;00m\n\u001b[0;32m      3\u001b[0m fname \u001b[38;5;241m=\u001b[39m \u001b[38;5;124m\"\u001b[39m\u001b[38;5;124m../coords/ROI_coords_2024-01-17.csv\u001b[39m\u001b[38;5;124m\"\u001b[39m \u001b[38;5;66;03m#change this\u001b[39;00m\n",
      "\u001b[1;31mModuleNotFoundError\u001b[0m: No module named 'pandas'"
     ]
    }
   ],
   "source": [
    "import pandas as pd\n",
    "import time\n",
    "fname = \"../coords/ROI_coords_2024-01-17.csv\" #change this\n",
    "res = 0 # change to 0 if you want 2X ds\n",
    "\n",
    "df = pd.read_csv(fname)\n",
    "df = df.dropna(how=\"all\")\n",
    "\n",
    "\n",
    "for i in range(len(df)):\n",
    "    print(\"ROI #\", i)\n",
    "    if i == 0:\n",
    "        start = time.time()\n",
    "    elif i == 1:\n",
    "        print(\"Time per ROI : \", start-time.time()/60, \"min\")\n",
    "\n",
    "    h5path = df[\"h5path\"][i]\n",
    "    Ab_home = df[\"Abhome\"][i]\n",
    "    hiclip_val = df[\"pgp_clipHigh\"][i]\n",
    "    lowclip_val = df[\"pgp_clipLow\"][i]\n",
    "    nuc_clip_low = df[\"nuc_clipLow\"][i]\n",
    "    nuc_clip_high = df[\"nuc_clipHigh\"][i]\n",
    "    cyto_clip_low = df[\"cyto_clipLow\"][i]\n",
    "    cyto_clip_high = df[\"cyto_clipHigh\"][i]\n",
    "    if df[\"pgp_ctehmt_method\"][i] == \"Rescale\":\n",
    "        clahe = False\n",
    "    else:\n",
    "        clahe = True    \n",
    "    xstart = df[\"xcoord\"][i]\n",
    "    ystart = df[\"ycoord\"][i]\n",
    "    zstart = df[\"zcoord\"][i]\n",
    "    ROI_dim = df[\"ROIdim\"][i]\n",
    "    no_of_layer = df[\"No_ofLayers\"][i]\n",
    "    orient = df[\"orient\"][i]\n",
    "\n",
    "    main(h5path\n",
    "        ,Ab_home\n",
    "        ,hiclip_val,lowclip_val\n",
    "        ,nuc_clip_low,nuc_clip_high\n",
    "        ,cyto_clip_low,cyto_clip_high\n",
    "        ,clahe\n",
    "        ,xstart,ystart,zstart\n",
    "        ,ROI_dim,no_of_layer\n",
    "        ,orient\n",
    "        ,res)\n"
   ]
  },
  {
   "cell_type": "markdown",
   "metadata": {},
   "source": [
    "**Manual Setup**\n",
    "\n",
    "you could preview to find the coords with bigstitcher or GUI"
   ]
  },
  {
   "cell_type": "code",
   "execution_count": 12,
   "metadata": {},
   "outputs": [
    {
     "ename": "TypeError",
     "evalue": "main() missing 1 required positional argument: 'res'",
     "output_type": "error",
     "traceback": [
      "\u001b[1;31m---------------------------------------------------------------------------\u001b[0m",
      "\u001b[1;31mTypeError\u001b[0m                                 Traceback (most recent call last)",
      "Cell \u001b[1;32mIn[12], line 20\u001b[0m\n\u001b[0;32m     17\u001b[0m no_of_layer \u001b[38;5;241m=\u001b[39m \u001b[38;5;241m50\u001b[39m\n\u001b[0;32m     18\u001b[0m orient \u001b[38;5;241m=\u001b[39m \u001b[38;5;241m0\u001b[39m \u001b[38;5;66;03m# 1 for xzy, 0 for zxy\u001b[39;00m\n\u001b[1;32m---> 20\u001b[0m \u001b[43mmain\u001b[49m\u001b[43m(\u001b[49m\u001b[43mh5path\u001b[49m\n\u001b[0;32m     21\u001b[0m \u001b[43m    \u001b[49m\u001b[43m,\u001b[49m\u001b[43mAb_home\u001b[49m\n\u001b[0;32m     22\u001b[0m \u001b[43m    \u001b[49m\u001b[43m,\u001b[49m\u001b[43mhiclip_val\u001b[49m\u001b[43m,\u001b[49m\u001b[43mlowclip_val\u001b[49m\n\u001b[0;32m     23\u001b[0m \u001b[43m    \u001b[49m\u001b[43m,\u001b[49m\u001b[43mnuc_clip_low\u001b[49m\u001b[43m,\u001b[49m\u001b[43mnuc_clip_high\u001b[49m\n\u001b[0;32m     24\u001b[0m \u001b[43m    \u001b[49m\u001b[43m,\u001b[49m\u001b[43mcyto_clip_low\u001b[49m\u001b[43m,\u001b[49m\u001b[43mcyto_clip_high\u001b[49m\n\u001b[0;32m     25\u001b[0m \u001b[43m    \u001b[49m\u001b[43m,\u001b[49m\u001b[43mclahe\u001b[49m\n\u001b[0;32m     26\u001b[0m \u001b[43m    \u001b[49m\u001b[43m,\u001b[49m\u001b[43mxstart\u001b[49m\u001b[43m,\u001b[49m\u001b[43mystart\u001b[49m\u001b[43m,\u001b[49m\u001b[43mzstart\u001b[49m\n\u001b[0;32m     27\u001b[0m \u001b[43m    \u001b[49m\u001b[43m,\u001b[49m\u001b[43mROI_dim\u001b[49m\u001b[43m,\u001b[49m\u001b[43m \u001b[49m\u001b[43mno_of_layer\u001b[49m\n\u001b[0;32m     28\u001b[0m \u001b[43m    \u001b[49m\u001b[43m,\u001b[49m\u001b[43morient\u001b[49m\u001b[43m)\u001b[49m\n",
      "\u001b[1;31mTypeError\u001b[0m: main() missing 1 required positional argument: 'res'"
     ]
    }
   ],
   "source": [
    "# change this\n",
    "h5path = \"W:/Trilabel_Data/CD31/Dec/OTLS4_NODO_01-03-24_PC_CD31/data-f0.h5\"\n",
    "Ab_home = os.getcwd()\n",
    "\n",
    "hiclip_val = 2200\n",
    "lowclip_val = 120\n",
    "nuc_clip_low = 10\n",
    "nuc_clip_high = 10000\n",
    "cyto_clip_low = 10\n",
    "cyto_clip_high = 5000\n",
    "clahe = False\n",
    "\n",
    "xstart = 200\n",
    "ystart = 2500\n",
    "zstart = 30\n",
    "ROI_dim = 512\n",
    "no_of_layer = 50\n",
    "orient = 0 # 1 for xzy, 0 for zxy\n",
    "\n",
    "main(h5path\n",
    "    ,Ab_home\n",
    "    ,hiclip_val,lowclip_val\n",
    "    ,nuc_clip_low,nuc_clip_high\n",
    "    ,cyto_clip_low,cyto_clip_high\n",
    "    ,clahe\n",
    "    ,xstart,ystart,zstart\n",
    "    ,ROI_dim, no_of_layer\n",
    "    ,orient)"
   ]
  }
 ],
 "metadata": {
  "kernelspec": {
   "display_name": "Python 3 (ipykernel)",
   "language": "python",
   "name": "python3"
  },
  "language_info": {
   "codemirror_mode": {
    "name": "ipython",
    "version": 3
   },
   "file_extension": ".py",
   "mimetype": "text/x-python",
   "name": "python",
   "nbconvert_exporter": "python",
   "pygments_lexer": "ipython3",
   "version": "3.9.18"
  },
  "vscode": {
   "interpreter": {
    "hash": "ad2bdc8ecc057115af97d19610ffacc2b4e99fae6737bb82f5d7fb13d2f2c186"
   }
  }
 },
 "nbformat": 4,
 "nbformat_minor": 2
}
