{
 "cells": [
  {
   "cell_type": "markdown",
   "metadata": {},
   "source": [
    "## Generating false-colored ROI\n",
    "\n",
    "False-coloring the ITAS3D training ROI. You should have the CSV file that contains 13 params when you generated the ROI.\n",
    "\n",
    "Return: \n",
    "\"FC\" folder next to the /ch0, /ch1, and /ch2 folders inside the \"train\" folder. False-colored input training ROIs .jpeg stacks inside the block subfolders"
   ]
  },
  {
   "cell_type": "code",
   "execution_count": 1,
   "metadata": {},
   "outputs": [],
   "source": [
    "import numpy as np\n",
    "import warnings\n",
    "import os\n",
    "warnings.filterwarnings(\"ignore\")"
   ]
  },
  {
   "cell_type": "markdown",
   "metadata": {},
   "source": [
    "`main()` : Grab the 7 input parameters from the CSV file.\n",
    "\n",
    "`collectTrainingROI()` : Nested function.\n",
    "\n",
    "- Create \"FC\" folder, and the subfolders with corresponding block names.\n",
    "- Read the nuc and cyto channels input training ROI .jpeg stacks. \n",
    "- False-color them and output and save them into the \"FC\" folder. "
   ]
  },
  {
   "cell_type": "code",
   "execution_count": 2,
   "metadata": {},
   "outputs": [],
   "source": [
    "def main(h5path\n",
    "        ,train_home\n",
    "        ,xstart\n",
    "        ,ystart\n",
    "        ,zstart\n",
    "        ,ROI_dim\n",
    "        ,no_of_layer\n",
    "        ):\n",
    "\n",
    "        filename = h5path\n",
    "        split = filename.count(\"/\") - 1\n",
    "        blockname = filename.split(\"/\")[split]\n",
    "        print(blockname,\"[ xyz:\",xstart,ystart,zstart,\"]\")\n",
    "\n",
    "        FC_dir = train_home + \"//train\" + \"//FC\"\n",
    "        if not os.path.exists(FC_dir):\n",
    "                os.mkdir(FC_dir)\n",
    "\n",
    "        ch1_dir = train_home + '//train' + os.sep + 'ch1'\n",
    "        ch2_dir = train_home + '//train' + os.sep + 'ch2'\n",
    "\n",
    "        xstop = xstart + ROI_dim\n",
    "        xcoords = (xstart, xstop)\n",
    "\n",
    "        ystop = ystart + ROI_dim\n",
    "        ycoords = (ystart, ystop)\n",
    "\n",
    "        zstop = zstart + no_of_layer\n",
    "        zcoords = (zstart, zstop)  \n",
    "\n",
    "        from GenerateFCStack import collectTrainingROI   \n",
    "\n",
    "        collectTrainingROI(FC_dir, ch1_dir, ch2_dir,\n",
    "                           blockname, \n",
    "                           xcoords, \n",
    "                           ycoords, \n",
    "                           zcoords)\n",
    "                                      \n",
    "    "
   ]
  },
  {
   "cell_type": "markdown",
   "metadata": {},
   "source": [
    "**False-coloring the training ROIs**\n",
    "\n",
    "You should have the ROI_coords_yyyy-mm-dd.csv file ready when you first generate the training ROIs. Make sure the training ROIs exist, don't false-color without even generating the training ROIs."
   ]
  },
  {
   "cell_type": "code",
   "execution_count": 3,
   "metadata": {},
   "outputs": [
    {
     "name": "stdout",
     "output_type": "stream",
     "text": [
      "ROI # 0\n",
      "OTLS4_NODO_6-15-23_18-108G_1_CK8 [ xyz: 1202 2322 28 ]\n",
      "ROI # 1\n",
      "OTLS4_NODO_6-15-23_18-108G_1_CK8 [ xyz: 1686 2865 28 ]\n",
      "ROI # 2\n",
      "OTLS4_NODO_6-16-23_ProstateB_CK8 [ xyz: 1034 2293 48 ]\n"
     ]
    }
   ],
   "source": [
    "import pandas as pd\n",
    "fname = \"../coords/ROI_coords_2024-01-14.csv\" #change this\n",
    "df = pd.read_csv(fname)\n",
    "df = df.dropna(how=\"all\")\n",
    "\n",
    "for i in range(len(df)):\n",
    "    print(\"ROI #\", i)\n",
    "\n",
    "    h5path = df[\"h5path\"][i]\n",
    "    Ab_home = df[\"Abhome\"][i]\n",
    "    xstart = df[\"xcoord\"][i]\n",
    "    ystart = df[\"ycoord\"][i]\n",
    "    zstart = df[\"zcoord\"][i]\n",
    "    ROI_dim = df[\"ROIdim\"][i]\n",
    "    no_of_layer = df[\"No_ofLayers\"][i]\n",
    "\n",
    "    main(h5path\n",
    "        ,Ab_home\n",
    "        ,xstart,ystart,zstart\n",
    "        ,ROI_dim,no_of_layer)"
   ]
  }
 ],
 "metadata": {
  "kernelspec": {
   "display_name": "Python 3.9.18 ('PreviewUI')",
   "language": "python",
   "name": "python3"
  },
  "language_info": {
   "codemirror_mode": {
    "name": "ipython",
    "version": 3
   },
   "file_extension": ".py",
   "mimetype": "text/x-python",
   "name": "python",
   "nbconvert_exporter": "python",
   "pygments_lexer": "ipython3",
   "version": "3.8.3"
  },
  "orig_nbformat": 4,
  "vscode": {
   "interpreter": {
    "hash": "38e22d7c567e63d29dd6fba5512c1a63e9b5abe11c4eef4d8479e7aa22dc470d"
   }
  }
 },
 "nbformat": 4,
 "nbformat_minor": 2
}
