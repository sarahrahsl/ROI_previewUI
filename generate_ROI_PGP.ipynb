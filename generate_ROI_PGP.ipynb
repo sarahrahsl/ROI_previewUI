{
 "cells": [
  {
   "cell_type": "markdown",
   "metadata": {},
   "source": [
    "## Training data Generation\n",
    "\n",
    "12 params to run the ROI generation script:\n",
    "- h5path : HDF5 file path\n",
    "- Abhome : Saving directory for specific Antibody, i.e. CK5, CK8, PGP9.5\n",
    "- hiclip_val : Target channel, higher limit for clipping\n",
    "- lowclip_val : Target channel, lower limit for clipping\n",
    "- nuc_clip_low   : Nuc channel, lower limit for clipping\n",
    "- nuc_clip_high  : Nuc channel, higher limit for clipping\n",
    "- cyto_clip_low  : Cyto channel, lower limit for clipping\n",
    "- cyto_clip_high : Cyto channel, higher limit for clipping\n",
    "- xstart : x-coordinate for selected ROI\n",
    "- ystart : y-coordinate for selected ROI\n",
    "- zstart : z-coordinate for selected ROI\n",
    "- ROI_dim : Dimension of ROI to be cropped, 512 x 512 (default)\n",
    "\n",
    "Return: \n",
    "* \"Train\" folder in specified Antibody directory, with \"Ch0\", \"Ch1\", \"Ch2\" as subfolder, \n",
    "* Cropped ROIs blocks are saved in this folder w/ this format: *OTLS4_NODO_mmddyy_xxxxx_Xpos_xxxxx_xxxxx_Ypos_xxxxx_xxxxx_stack_xxxxx_xxxxx_mirror* "
   ]
  },
  {
   "cell_type": "code",
   "execution_count": 5,
   "metadata": {},
   "outputs": [],
   "source": [
    "import os\n",
    "import h5py as h5\n",
    "from CollectImgStackFused import *\n",
    "import warnings\n",
    "warnings.filterwarnings(\"ignore\")"
   ]
  },
  {
   "cell_type": "code",
   "execution_count": 6,
   "metadata": {},
   "outputs": [],
   "source": [
    "def main(h5path\n",
    "        ,Ab_home\n",
    "        ,hiclip_val\n",
    "        ,lowclip_val\n",
    "        ,nuc_clip_low\n",
    "        ,nuc_clip_high\n",
    "        ,cyto_clip_low\n",
    "        ,cyto_clip_high\n",
    "        ,clahe\n",
    "        ,xstart\n",
    "        ,ystart\n",
    "        ,zstart\n",
    "        ,ROI_dim\n",
    "        ,orient\n",
    "        ):\n",
    "\n",
    "    filename = h5path\n",
    "    # savedir = os.getcwd() + os.sep + 'train'\n",
    "    if not os.path.exists(Ab_home):\n",
    "        os.mkdir(Ab_home)\n",
    "    savedir = Ab_home + os.sep + 'train'\n",
    "    if not os.path.exists(savedir):\n",
    "        os.mkdir(savedir)\n",
    "    blockname = filename.split(\"/\")[3]\n",
    "    print(blockname)\n",
    "    print(savedir)\n",
    "\n",
    "    xstop = xstart + ROI_dim\n",
    "    xcoords = (xstart, xstop)\n",
    "\n",
    "    ystop = ystart + ROI_dim\n",
    "    ycoords = (ystart, ystop)\n",
    "\n",
    "    zstop = zstart + 50\n",
    "    zcoords = (zstart, zstop)\n",
    "\n",
    "    with h5.File(filename, 'r') as f:\n",
    "        collectImgStackFused(f,\n",
    "                        savedir,\n",
    "                        blockname,\n",
    "                        zcoords,\n",
    "                        xcoords,\n",
    "                        ycoords,\n",
    "                        orient,\n",
    "                        CLAHE=clahe,\n",
    "                        hiclip_val  = hiclip_val,\n",
    "                        lowclip_val = lowclip_val,\n",
    "                        nuc_clip_low   = nuc_clip_low,\n",
    "                        nuc_clip_high  = nuc_clip_high,\n",
    "                        cyto_clip_low  = cyto_clip_low,\n",
    "                        cyto_clip_high = cyto_clip_high)\n",
    "    f.close()"
   ]
  },
  {
   "cell_type": "markdown",
   "metadata": {},
   "source": [
    "**Manual Setup**\n",
    "\n",
    "you could preview to find the coords with bigstitcher or GUI"
   ]
  },
  {
   "cell_type": "code",
   "execution_count": 3,
   "metadata": {},
   "outputs": [
    {
     "name": "stdout",
     "output_type": "stream",
     "text": [
      "50\n",
      "50\n",
      "50\n"
     ]
    }
   ],
   "source": [
    "# change this\n",
    "h5path = \"W:/Trilabel_Data/CK8/OTLS4_NODO_6-20-23_19-068I_CK8/data-f0.h5\"\n",
    "Ab_home = os.getcwd()\n",
    "\n",
    "hiclip_val = 2200\n",
    "lowclip_val = 120\n",
    "nuc_clip_low = 10\n",
    "nuc_clip_high = 10000\n",
    "cyto_clip_low = 10\n",
    "cyto_clip_high = 5000\n",
    "clahe = False\n",
    "\n",
    "xstart = 200\n",
    "ystart = 2500\n",
    "zstart = 30\n",
    "ROI_dim = 512\n",
    "orient = 0 # 1 for xzy, 0 for zxy\n",
    "\n",
    "main(h5path\n",
    "    ,Ab_home\n",
    "    ,hiclip_val,lowclip_val\n",
    "    ,nuc_clip_low,nuc_clip_high\n",
    "    ,cyto_clip_low,cyto_clip_high\n",
    "    ,clahe\n",
    "    ,xstart,ystart,zstart\n",
    "    ,ROI_dim\n",
    "    ,orient)"
   ]
  },
  {
   "cell_type": "markdown",
   "metadata": {},
   "source": [
    "**Auto Set up with GUI** \n",
    "\n",
    "Using *ROI_v2.py*, export all the params into *ROI_coords_yyyy-mm-dd.csv* file"
   ]
  },
  {
   "cell_type": "code",
   "execution_count": 7,
   "metadata": {},
   "outputs": [
    {
     "name": "stdout",
     "output_type": "stream",
     "text": [
      "OTLS4_NODO_5-22-23_15-071K_PGP9.5\n",
      "Y:/Sarah/Test PGP\\PGP9.5\\train\n",
      "Y:/Sarah/Test PGP\\PGP9.5\\train\\ch1\\OTLS4_NODO_5-22-23_15-071K_PGP9.5_Xpos_000863_001563_Ypos_001944_002644_stack_000016_000066\n",
      "reading img s01\n",
      "Y:/Sarah/Test PGP\\PGP9.5\\train\\ch0\\OTLS4_NODO_5-22-23_15-071K_PGP9.5_Xpos_000863_001563_Ypos_001944_002644_stack_000016_000066\n",
      "reading img s02\n",
      "Y:/Sarah/Test PGP\\PGP9.5\\train\\ch2\\OTLS4_NODO_5-22-23_15-071K_PGP9.5_Xpos_000863_001563_Ypos_001944_002644_stack_000016_000066\n",
      "reading img s00\n",
      "OTLS4_NODO_6-11-23_16-010J_PGP9.5\n",
      "Y:/Sarah/Test PGP\\PGP9.5\\train\n",
      "Y:/Sarah/Test PGP\\PGP9.5\\train\\ch1\\OTLS4_NODO_6-11-23_16-010J_PGP9.5_Xpos_000061_000761_Ypos_002792_003492_stack_000044_000094\n",
      "reading img s01\n",
      "Y:/Sarah/Test PGP\\PGP9.5\\train\\ch0\\OTLS4_NODO_6-11-23_16-010J_PGP9.5_Xpos_000061_000761_Ypos_002792_003492_stack_000044_000094\n",
      "reading img s02\n",
      "Y:/Sarah/Test PGP\\PGP9.5\\train\\ch2\\OTLS4_NODO_6-11-23_16-010J_PGP9.5_Xpos_000061_000761_Ypos_002792_003492_stack_000044_000094\n",
      "reading img s00\n"
     ]
    }
   ],
   "source": [
    "import pandas as pd\n",
    "fname = \"ROI_coords_2023-08-02.csv\" #change this\n",
    "df = pd.read_csv(fname)\n",
    "df = df.dropna(how=\"all\")\n",
    "\n",
    "for i in range(len(df)):\n",
    "    h5path = df[\"h5path\"][i]\n",
    "    Ab_home = df[\"Abhome\"][i]\n",
    "    hiclip_val = df[\"pgp_clipHigh\"][i]\n",
    "    lowclip_val = df[\"pgp_clipLow\"][i]\n",
    "    nuc_clip_low = df[\"nuc_clipLow\"][i]\n",
    "    nuc_clip_high = df[\"nuc_clipHigh\"][i]\n",
    "    cyto_clip_low = df[\"cyto_clipLow\"][i]\n",
    "    cyto_clip_high = df[\"cyto_clipHigh\"][i]\n",
    "    if df[\"pgp_ctehmt_method\"][i] == \"Rescale\":\n",
    "        clahe = False\n",
    "    else:\n",
    "        clahe = True    \n",
    "    xstart = df[\"xcoord\"][i]\n",
    "    ystart = df[\"ycoord\"][i]\n",
    "    zstart = df[\"zcoord\"][i]\n",
    "    ROI_dim = df[\"ROIdim\"][i]\n",
    "    orient = df[\"orient\"][i]\n",
    "\n",
    "    main(h5path\n",
    "        ,Ab_home\n",
    "        ,hiclip_val,lowclip_val\n",
    "        ,nuc_clip_low,nuc_clip_high\n",
    "        ,cyto_clip_low,cyto_clip_high\n",
    "        ,clahe\n",
    "        ,xstart,ystart,zstart\n",
    "        ,ROI_dim\n",
    "        ,orient)"
   ]
  },
  {
   "cell_type": "code",
   "execution_count": null,
   "metadata": {},
   "outputs": [],
   "source": []
  }
 ],
 "metadata": {
  "kernelspec": {
   "display_name": "Python 3.8.3 ('base')",
   "language": "python",
   "name": "python3"
  },
  "language_info": {
   "codemirror_mode": {
    "name": "ipython",
    "version": 3
   },
   "file_extension": ".py",
   "mimetype": "text/x-python",
   "name": "python",
   "nbconvert_exporter": "python",
   "pygments_lexer": "ipython3",
   "version": "3.8.3"
  },
  "orig_nbformat": 4,
  "vscode": {
   "interpreter": {
    "hash": "ad2bdc8ecc057115af97d19610ffacc2b4e99fae6737bb82f5d7fb13d2f2c186"
   }
  }
 },
 "nbformat": 4,
 "nbformat_minor": 2
}
