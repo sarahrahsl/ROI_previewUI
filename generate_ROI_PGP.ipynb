{
 "cells": [
  {
   "cell_type": "markdown",
   "metadata": {},
   "source": [
    "## Training data Generation\n",
    "\n",
    "10 params to run the ROI generation script:\n",
    "- h5path\n",
    "- hiclip_val : Target channel, higher limit for clipping\n",
    "- lowclip_val : Target channel, lower limit for clipping\n",
    "- nuc_clip_low   : Nuc channel, lower limit for clipping\n",
    "- nuc_clip_high  : Nuc channel, higher limit for clipping\n",
    "- cyto_clip_low  : Cyto channel, lower limit for clipping\n",
    "- cyto_clip_high : Cyto channel, higher limit for clipping\n",
    "- xstart : x-coordinate for selected ROI\n",
    "- ystart : y-coordinate for selected ROI\n",
    "- zstart : z-coordinate for selected ROI\n",
    "\n",
    "Return: \n",
    "* \"Train\" folder in current directory, with \"Ch0\", \"Ch1\", \"Ch2\" as subfolder, \n",
    "* Cropped ROIs blocks are saved in this folder w/ this format: *OTLS4_NODO_mmddyy_xxxxx_Xpos_xxxxx_xxxxx_Ypos_xxxxx_xxxxx_stack_xxxxx_xxxxx_mirror* "
   ]
  },
  {
   "cell_type": "code",
   "execution_count": 1,
   "metadata": {},
   "outputs": [],
   "source": [
    "import os\n",
    "import h5py as h5\n",
    "import glob\n",
    "import matplotlib.pyplot as plt\n",
    "from CollectImgStackFused import *\n",
    "import warnings\n",
    "warnings.filterwarnings(\"ignore\")"
   ]
  },
  {
   "cell_type": "code",
   "execution_count": 2,
   "metadata": {},
   "outputs": [],
   "source": [
    "def main(h5path\n",
    "        ,hiclip_val\n",
    "        ,lowclip_val\n",
    "        ,nuc_clip_low\n",
    "        ,nuc_clip_high\n",
    "        ,cyto_clip_low\n",
    "        ,cyto_clip_high\n",
    "        ,clahe\n",
    "        ,xstart\n",
    "        ,ystart\n",
    "        ,zstart\n",
    "        ):\n",
    "\n",
    "    filename = h5path\n",
    "    savedir = os.getcwd() + os.sep + 'train'\n",
    "    blockname = filename.split(\"/\")[3] + '_test'\n",
    "    print(blockname)\n",
    "    print(savedir)\n",
    "\n",
    "    xstop = xstart + 640\n",
    "    xcoords = (xstart, xstop)\n",
    "\n",
    "    ystop = ystart + 640\n",
    "    ycoords = (ystart, ystop)\n",
    "\n",
    "    zstop = zstart + 50\n",
    "    zcoords = (zstart, zstop)\n",
    "\n",
    "    with h5.File(filename, 'r') as f:\n",
    "        collectImgStackFused(f,\n",
    "                        savedir,\n",
    "                        blockname,\n",
    "                        zcoords,\n",
    "                        xcoords,\n",
    "                        ycoords,\n",
    "                        CLAHE=clahe,\n",
    "                        hiclip_val  = hiclip_val,\n",
    "                        lowclip_val = lowclip_val,\n",
    "                        nuc_clip_low   = nuc_clip_low,\n",
    "                        nuc_clip_high  = nuc_clip_high,\n",
    "                        cyto_clip_low  = cyto_clip_low,\n",
    "                        cyto_clip_high = cyto_clip_high)\n",
    "    f.close()"
   ]
  },
  {
   "cell_type": "markdown",
   "metadata": {},
   "source": [
    "**Manual Setup**\n",
    "\n",
    "you could preview to find the coords with bigstitcher or GUI"
   ]
  },
  {
   "cell_type": "code",
   "execution_count": null,
   "metadata": {},
   "outputs": [],
   "source": [
    "# change this\n",
    "h5path = \"W:/Trilabel_Data/PGP9.5/OTLS4_NODO_6-7-23_16-043J_PGP9.5/data-f0.h5\"\n",
    "\n",
    "hiclip_val = 2200\n",
    "lowclip_val = 120\n",
    "nuc_clip_low = 10\n",
    "nuc_clip_high = 10000\n",
    "cyto_clip_low = 10\n",
    "cyto_clip_high = 5000\n",
    "clahe = False\n",
    "\n",
    "xstart = 200\n",
    "ystart = 2500\n",
    "zstart = 30\n",
    "\n",
    "main(h5path\n",
    "    ,hiclip_val,lowclip_val\n",
    "    ,nuc_clip_low,nuc_clip_high\n",
    "    ,cyto_clip_low,cyto_clip_high\n",
    "    ,clahe\n",
    "    ,xstart,ystart,zstart)"
   ]
  },
  {
   "cell_type": "markdown",
   "metadata": {},
   "source": [
    "**Auto Set up with GUI** \n",
    "\n",
    "Using *ROI_v2.py*, export all the params into *ROI_coords_yyyy-mm-dd.csv* file"
   ]
  },
  {
   "cell_type": "code",
   "execution_count": null,
   "metadata": {},
   "outputs": [],
   "source": [
    "import pandas as pd\n",
    "fname = \"Y:/Sarah/ROI_PreviewUI/ROI_coords_2023-07-14.csv\" #change this\n",
    "df = pd.read_csv(fname)\n",
    "df = df.dropna(how=\"all\")\n",
    "\n",
    "for i in range(len(df)):\n",
    "    h5path = df[\"h5path\"][i]\n",
    "    hiclip_val = df[\"pgp_clipHigh\"][i]\n",
    "    lowclip_val = df[\"pgp_clipLow\"][i]\n",
    "    nuc_clip_low = df[\"nuc_clipLow\"][i]\n",
    "    nuc_clip_high = df[\"nuc_clipHigh\"][i]\n",
    "    cyto_clip_low = df[\"cyto_clipLow\"][i]\n",
    "    cyto_clip_high = df[\"cyto_clipHigh\"][i]\n",
    "    if df[\"pgp_ctehmt_method\"][i] == \"Rescale\":\n",
    "        clahe = False\n",
    "    else:\n",
    "        clahe = True    \n",
    "    xstart = df[\"xcoord\"][i]\n",
    "    ystart = df[\"ycoord\"][i]\n",
    "    zstart = df[\"CurrentZlevel\"][i]\n",
    "\n",
    "    main(h5path\n",
    "        ,hiclip_val,lowclip_val\n",
    "        ,nuc_clip_low,nuc_clip_high\n",
    "        ,cyto_clip_low,cyto_clip_high\n",
    "        ,clahe\n",
    "        ,xstart,ystart,zstart)"
   ]
  },
  {
   "cell_type": "code",
   "execution_count": null,
   "metadata": {},
   "outputs": [],
   "source": []
  }
 ],
 "metadata": {
  "kernelspec": {
   "display_name": "Python 3.8.3 ('base')",
   "language": "python",
   "name": "python3"
  },
  "language_info": {
   "codemirror_mode": {
    "name": "ipython",
    "version": 3
   },
   "file_extension": ".py",
   "mimetype": "text/x-python",
   "name": "python",
   "nbconvert_exporter": "python",
   "pygments_lexer": "ipython3",
   "version": "3.8.3"
  },
  "orig_nbformat": 4,
  "vscode": {
   "interpreter": {
    "hash": "ad2bdc8ecc057115af97d19610ffacc2b4e99fae6737bb82f5d7fb13d2f2c186"
   }
  }
 },
 "nbformat": 4,
 "nbformat_minor": 2
}
